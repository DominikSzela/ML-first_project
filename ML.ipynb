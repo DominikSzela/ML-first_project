{
  "nbformat": 4,
  "nbformat_minor": 0,
  "metadata": {
    "colab": {
      "provenance": [],
      "authorship_tag": "ABX9TyM3vrVnVKqJPViDGL45ajmu",
      "include_colab_link": true
    },
    "kernelspec": {
      "name": "python3",
      "display_name": "Python 3"
    },
    "language_info": {
      "name": "python"
    }
  },
  "cells": [
    {
      "cell_type": "markdown",
      "metadata": {
        "id": "view-in-github",
        "colab_type": "text"
      },
      "source": [
        "<a href=\"https://colab.research.google.com/github/DominikSzela/ML-first_project/blob/main/ML.ipynb\" target=\"_parent\"><img src=\"https://colab.research.google.com/assets/colab-badge.svg\" alt=\"Open In Colab\"/></a>"
      ]
    },
    {
      "cell_type": "code",
      "source": [
        "import pandas as pd\n",
        "\n",
        "data = {\n",
        "    'powierzchnia_m2': [30, 45, 60, 80, 100],\n",
        "    'liczba_pokoi': [1, 2, 2, 3, 4],\n",
        "    'cena_w_tys': [300, 450, 600, 800, 1000]\n",
        "}\n",
        "\n",
        "df = pd.DataFrame(data)\n",
        "print(df)"
      ],
      "metadata": {
        "colab": {
          "base_uri": "https://localhost:8080/"
        },
        "id": "c9EHc9-GLyGu",
        "outputId": "5e0939a5-6a17-40a7-c14b-ac874bb7d435"
      },
      "execution_count": 9,
      "outputs": [
        {
          "output_type": "stream",
          "name": "stdout",
          "text": [
            "   powierzchnia_m2  liczba_pokoi  cena_w_tys\n",
            "0               30             1         300\n",
            "1               45             2         450\n",
            "2               60             2         600\n",
            "3               80             3         800\n",
            "4              100             4        1000\n"
          ]
        }
      ]
    }
  ]
}