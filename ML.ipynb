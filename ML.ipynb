{
  "cells": [
    {
      "cell_type": "markdown",
      "metadata": {
        "id": "view-in-github",
        "colab_type": "text"
      },
      "source": [
        "<a href=\"https://colab.research.google.com/github/DominikSzela/ML-first_project/blob/main/ML.ipynb\" target=\"_parent\"><img src=\"https://colab.research.google.com/assets/colab-badge.svg\" alt=\"Open In Colab\"/></a>"
      ]
    },
    {
      "cell_type": "markdown",
      "metadata": {
        "id": "Wf5KrEb6vrkR"
      },
      "source": []
    },
    {
      "cell_type": "code",
      "source": [],
      "metadata": {
        "id": "7staDIDbIdNJ"
      },
      "execution_count": null,
      "outputs": []
    },
    {
      "cell_type": "code",
      "source": [],
      "metadata": {
        "id": "99o_EzWKILRB"
      },
      "execution_count": null,
      "outputs": []
    },
    {
      "cell_type": "markdown",
      "metadata": {
        "id": "Nma_JWh-W-IF"
      },
      "source": [
        "Colab ma teraz funkcje AI oparte na <a href=\"https://gemini.google.com\">Gemini</a>. Poniższy film zawiera informacje o tym, jak korzystać z tych funkcji, niezależnie od tego, czy dopiero zaczynasz przygodę z Pythonem, czy jesteś doświadczonym programistą.\n",
        "\n",
        "<center>\n",
        "  <a href=\"https://www.youtube.com/watch?v=V7RXyqFUR98\" target=\"_blank\">\n",
        "  </a>\n",
        "</center>"
      ]
    },
    {
      "cell_type": "markdown",
      "source": [
        "sadsdsasdsda# Nowa sekcja"
      ],
      "metadata": {
        "id": "2viGaH76JzNu"
      }
    },
    {
      "cell_type": "markdown",
      "metadata": {
        "id": "5fCEDCU_qrC0"
      },
      "source": [
        "<div class=\"markdown-google-sans\">\n",
        "  <h2>Czym jest Colab?</h2>\n",
        "</div>\n",
        "asddddddddddddddddddddddddd\n",
        "Colab, lub inaczej „Colaboratory”, pozwala pisać i wykonywać kod w języku Python bezpośrednio w przeglądarce dzięki\n",
        "- brakowi konieczności konfigurowania,\n",
        "- Bezpłatny dostęp do GPU\n",
        "- łatwemu udostępnianiu.\n",
        "\n",
        "Colab może Ci ułatwić pracę niezależnie od tego, czy jesteś <strong>studentem</strong>, <strong>badaczem danych</strong> czy <strong>badaczem sztucznej inteligencji</strong>. Obejrzyj <a href=\"https://www.youtube.com/watch?v=inN8seMm7UI\">Wprowadzenie do Colab</a> lub <a href=\"https://www.youtube.com/watch?v=rNgswRZ2C1Y\">Funkcje Colab, które mogły Ci umknąć</a>, aby dowiedzieć się więcej, lub po prostu zjedź niżej i zacznij korzystać z tej usługi."
      ]
    },
    {
      "cell_type": "markdown",
      "metadata": {
        "id": "GJBs_flRovLc"
      },
      "source": []
    },
    {
      "cell_type": "code",
      "execution_count": null,
      "metadata": {
        "id": "gJr_9dXGpJ05",
        "outputId": "cba0fb33-9fed-4bea-d79d-0646959e00f9",
        "colab": {
          "base_uri": "https://localhost:8080/"
        }
      },
      "outputs": [
        {
          "output_type": "execute_result",
          "data": {
            "text/plain": [
              "86400"
            ]
          },
          "metadata": {},
          "execution_count": 1
        }
      ],
      "source": [
        "seconds_in_a_day = 24 * 61 * 60\n",
        "seconds_in_a_day"
      ]
    },
    {
      "cell_type": "markdown",
      "metadata": {
        "id": "2fhs6GZ4qFMx"
      },
      "source": [
        "Aby uruchomić kod w komórce powyżej, zaznacz ją przez kliknięcie, a potem kliknij przycisk uruchamiania po lewej stronie kodu lub użyj skrótu klawiszowego „Command/Ctrl + Enter”. Aby rozpocząć edytowanie kodu, wystarczy tylko kliknąć komórkę.\n",
        "\n",
        "Zmiennych zdefiniowanych w jednej komórce możesz później używać w innych komórkach:"
      ]
    },
    {
      "cell_type": "code",
      "execution_count": null,
      "metadata": {
        "id": "-gE-Ez1qtyIA",
        "outputId": "e8f0c2b1-3c1e-4476-f8c2-d8f31cdb5e75"
      },
      "outputs": [
        {
          "data": {
            "text/plain": [
              "604800"
            ]
          },
          "execution_count": null,
          "metadata": {},
          "output_type": "execute_result"
        }
      ],
      "source": [
        "seconds_in_a_week = 7 * seconds_in_a_day\n",
        "seconds_in_a_week"
      ]
    },
    {
      "cell_type": "markdown",
      "metadata": {
        "id": "lSrWNr3MuFUS"
      },
      "source": [
        "W notatnikach Colab możesz łączyć ze sobą <strong>kod wykonywalny</strong> i <strong>tekst sformatowany</strong> w jeden dokument razem z <strong>obrazami</strong>, <strong>kodem HTML</strong>, <strong>kodem LaTeX</strong> itd. Gdy tworzysz własne notatniki Colab, są one przechowywane na Twoim koncie Dysku Google. Notatniki te możesz z łatwością udostępniać współpracownikom i znajomym, co pozwoli im zamieszczać w nich komentarze, a nawet edytować ich zawartość. Więcej dowiesz się z artykułu <a href=\"/notebooks/basic_features_overview.ipynb\">Omówienie Colab</a>. Aby utworzyć nowy notatnik Colab, możesz skorzystać z menu „Plik” powyżej lub z tego linku: <a href=\"http://colab.research.google.com#create=true\">utwórz nowy notatnik Colab</a>.\n",
        "\n",
        "Notatniki Colab są notatnikami Jupyter hostowanymi przez Colab. Więcej informacji o projekcie Jupyter znajdziesz na <a href=\"https://www.jupyter.org\">jupyter.org</a>."
      ]
    },
    {
      "cell_type": "markdown",
      "source": [
        "# Nowa sekcja"
      ],
      "metadata": {
        "id": "Cr2N2fJKJvLe"
      }
    }
  ],
  "metadata": {
    "colab": {
      "provenance": [],
      "toc_visible": true,
      "include_colab_link": true
    },
    "kernelspec": {
      "display_name": "Python 3",
      "name": "python3"
    }
  },
  "nbformat": 4,
  "nbformat_minor": 0
}